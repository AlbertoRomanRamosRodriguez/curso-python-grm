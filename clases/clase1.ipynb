{
 "cells": [
  {
   "attachments": {},
   "cell_type": "markdown",
   "metadata": {},
   "source": [
    "# Clase 1 Python\n"
   ]
  },
  {
   "cell_type": "code",
   "execution_count": 1,
   "metadata": {},
   "outputs": [
    {
     "name": "stdout",
     "output_type": "stream",
     "text": [
      "Hello World\n"
     ]
    }
   ],
   "source": [
    "print(\"Hello World\")"
   ]
  },
  {
   "cell_type": "code",
   "execution_count": 2,
   "metadata": {
    "notebookRunGroups": {
     "groupValue": ""
    }
   },
   "outputs": [
    {
     "name": "stdout",
     "output_type": "stream",
     "text": [
      "The Zen of Python, by Tim Peters\n",
      "\n",
      "Beautiful is better than ugly.\n",
      "Explicit is better than implicit.\n",
      "Simple is better than complex.\n",
      "Complex is better than complicated.\n",
      "Flat is better than nested.\n",
      "Sparse is better than dense.\n",
      "Readability counts.\n",
      "Special cases aren't special enough to break the rules.\n",
      "Although practicality beats purity.\n",
      "Errors should never pass silently.\n",
      "Unless explicitly silenced.\n",
      "In the face of ambiguity, refuse the temptation to guess.\n",
      "There should be one-- and preferably only one --obvious way to do it.\n",
      "Although that way may not be obvious at first unless you're Dutch.\n",
      "Now is better than never.\n",
      "Although never is often better than *right* now.\n",
      "If the implementation is hard to explain, it's a bad idea.\n",
      "If the implementation is easy to explain, it may be a good idea.\n",
      "Namespaces are one honking great idea -- let's do more of those!\n"
     ]
    }
   ],
   "source": [
    "import this"
   ]
  },
  {
   "attachments": {},
   "cell_type": "markdown",
   "metadata": {},
   "source": [
    "## Tipos de datos"
   ]
  },
  {
   "cell_type": "code",
   "execution_count": 18,
   "metadata": {},
   "outputs": [],
   "source": [
    "DEVICE = \"Raspberry Pi\"     # str\n",
    "DHT11_PIN = 15              # int\n",
    "temperature = 35.6          # float\n",
    "is_daytime =  False         # bool"
   ]
  },
  {
   "cell_type": "code",
   "execution_count": 14,
   "metadata": {},
   "outputs": [
    {
     "name": "stdout",
     "output_type": "stream",
     "text": [
      "[INFO] working on a Raspberry Pi\n",
      "[INFO] measuring temperature on pin 15\n",
      "[INFO] current temperature is 35.6\n"
     ]
    }
   ],
   "source": [
    "print(f\"[INFO] working on a {DEVICE}\")\n",
    "print(f\"[INFO] measuring temperature on pin {DHT11_PIN}\")\n",
    "print(f\"[INFO] current temperature is {temperature}\")"
   ]
  },
  {
   "cell_type": "code",
   "execution_count": 20,
   "metadata": {},
   "outputs": [
    {
     "name": "stdout",
     "output_type": "stream",
     "text": [
      ">25\n"
     ]
    }
   ],
   "source": [
    "if is_daytime:\n",
    "    print(f\"[INFO] Daytime\")\n",
    "elif temperature > 25:\n",
    "    pass\n",
    "else:\n",
    "    print(f\"[INFO] Nighttime\")"
   ]
  },
  {
   "attachments": {},
   "cell_type": "markdown",
   "metadata": {},
   "source": [
    "## Funciones"
   ]
  },
  {
   "cell_type": "code",
   "execution_count": 35,
   "metadata": {},
   "outputs": [],
   "source": [
    "def enemy_output(name: str, distance: float, is_attacking: bool):\n",
    "    \"\"\"This function displays the presence of an enemy\"\"\"\n",
    "\n",
    "    message = \"\"\n",
    "\n",
    "    message += f\"JARVIS -> [DETECTED] {name} is\"\n",
    "\n",
    "    if is_attacking:\n",
    "        message += f\"attacking at {distance} m\"\n",
    "    else:\n",
    "        message += f\"idle at {distance} m\"\n",
    "\n",
    "    print(message)"
   ]
  },
  {
   "cell_type": "code",
   "execution_count": 40,
   "metadata": {},
   "outputs": [
    {
     "name": "stdout",
     "output_type": "stream",
     "text": [
      "JARVIS -> [DETECTED] The Winter Soldier isidle at 60.5 m\n",
      "JARVIS -> [DETECTED] Thanos isattacking at 5.5 m\n",
      "JARVIS -> [DETECTED] Loki isattacking at 5.5 m\n"
     ]
    }
   ],
   "source": [
    "enemy_name = \"Thanos\"\n",
    "dist = 5.5\n",
    "attacking = True\n",
    "\n",
    "enemy_output(\"The Winter Soldier\", 60.5, False)\n",
    "enemy_output(enemy_name, dist, attacking)\n",
    "\n",
    "enemy_name = \"Loki\"\n",
    "\n",
    "enemy_output(\n",
    "    name = enemy_name, \n",
    "    distance = dist, \n",
    "    is_attacking = True\n",
    ")"
   ]
  },
  {
   "cell_type": "code",
   "execution_count": 33,
   "metadata": {},
   "outputs": [
    {
     "data": {
      "text/plain": [
       "9.843"
      ]
     },
     "execution_count": 33,
     "metadata": {},
     "output_type": "execute_result"
    }
   ],
   "source": [
    "convert_to_feet = lambda d : d*3.281 # distance in meters -> feet\n",
    "\n",
    "convert_to_feet(3)"
   ]
  },
  {
   "attachments": {},
   "cell_type": "markdown",
   "metadata": {},
   "source": [
    "## Agrupamiento de datos"
   ]
  },
  {
   "cell_type": "code",
   "execution_count": 49,
   "metadata": {},
   "outputs": [
    {
     "data": {
      "text/plain": [
       "('The Rift',\n",
       " 'Winterhold',\n",
       " 'Haafingar',\n",
       " 'Hjaalmarch',\n",
       " 'The Reach',\n",
       " 'Whiterun',\n",
       " 'Falkreath',\n",
       " 'Eastmarch',\n",
       " 'The Pale')"
      ]
     },
     "metadata": {},
     "output_type": "display_data"
    }
   ],
   "source": [
    "# tuples\n",
    "regions = (\"The Rift\", \"Winterhold\", \"Haafingar\", \"Hjaalmarch\", \"The Reach\", \"Whiterun\", \"Falkreath\", \"Eastmarch\", \"The Pale\")\n",
    "\n",
    "display(regions)"
   ]
  },
  {
   "cell_type": "code",
   "execution_count": 50,
   "metadata": {},
   "outputs": [
    {
     "data": {
      "text/plain": [
       "['College of Winterhold', 'The Companions']"
      ]
     },
     "execution_count": 50,
     "metadata": {},
     "output_type": "execute_result"
    }
   ],
   "source": [
    "# lists\n",
    "memberships = []\n",
    "\n",
    "memberships.append(\"College of Winterhold\")\n",
    "memberships.append(\"The Companions\")\n",
    "\n",
    "memberships"
   ]
  },
  {
   "cell_type": "code",
   "execution_count": 51,
   "metadata": {},
   "outputs": [
    {
     "data": {
      "text/plain": [
       "{'region': 'Whiterun', 'allegiance': 'The Empire'}"
      ]
     },
     "execution_count": 51,
     "metadata": {},
     "output_type": "execute_result"
    }
   ],
   "source": [
    "# dict\n",
    "{\n",
    "    'region': 'Whiterun',\n",
    "    'allegiance': 'The Empire'\n",
    "}"
   ]
  },
  {
   "cell_type": "code",
   "execution_count": 52,
   "metadata": {},
   "outputs": [],
   "source": [
    "jarl = {\n",
    "    'name': 'balgruuf',\n",
    "    'region': 'whiterun',\n",
    "    'allegiance': 'Neutral',\n",
    "    'family':{\n",
    "        'name' :'Battleborn',\n",
    "        'relatives': [{\n",
    "            'name': 'Olfrid',\n",
    "            'relation': 'father'\n",
    "        }]\n",
    "\n",
    "    }\n",
    "}"
   ]
  },
  {
   "attachments": {},
   "cell_type": "markdown",
   "metadata": {},
   "source": [
    "## Ciclos"
   ]
  },
  {
   "cell_type": "code",
   "execution_count": 69,
   "metadata": {},
   "outputs": [
    {
     "data": {
      "text/plain": [
       "'The Rift'"
      ]
     },
     "metadata": {},
     "output_type": "display_data"
    },
    {
     "data": {
      "text/plain": [
       "'Haafingar'"
      ]
     },
     "metadata": {},
     "output_type": "display_data"
    },
    {
     "data": {
      "text/plain": [
       "'The Reach'"
      ]
     },
     "metadata": {},
     "output_type": "display_data"
    },
    {
     "data": {
      "text/plain": [
       "'Falkreath'"
      ]
     },
     "metadata": {},
     "output_type": "display_data"
    },
    {
     "data": {
      "text/plain": [
       "'The Pale'"
      ]
     },
     "metadata": {},
     "output_type": "display_data"
    }
   ],
   "source": [
    "for i in range(len(regions)):\n",
    "    if i % 2 == 0:\n",
    "        display(regions[i])"
   ]
  },
  {
   "cell_type": "code",
   "execution_count": 70,
   "metadata": {},
   "outputs": [
    {
     "data": {
      "text/plain": [
       "'The Pale'"
      ]
     },
     "execution_count": 70,
     "metadata": {},
     "output_type": "execute_result"
    }
   ],
   "source": [
    "regions[-1]"
   ]
  },
  {
   "cell_type": "code",
   "execution_count": 71,
   "metadata": {},
   "outputs": [
    {
     "data": {
      "text/plain": [
       "'The Rift'"
      ]
     },
     "metadata": {},
     "output_type": "display_data"
    },
    {
     "data": {
      "text/plain": [
       "'Winterhold'"
      ]
     },
     "metadata": {},
     "output_type": "display_data"
    },
    {
     "data": {
      "text/plain": [
       "'Haafingar'"
      ]
     },
     "metadata": {},
     "output_type": "display_data"
    },
    {
     "data": {
      "text/plain": [
       "'Hjaalmarch'"
      ]
     },
     "metadata": {},
     "output_type": "display_data"
    },
    {
     "data": {
      "text/plain": [
       "'The Reach'"
      ]
     },
     "metadata": {},
     "output_type": "display_data"
    },
    {
     "data": {
      "text/plain": [
       "'Whiterun'"
      ]
     },
     "metadata": {},
     "output_type": "display_data"
    },
    {
     "data": {
      "text/plain": [
       "'Falkreath'"
      ]
     },
     "metadata": {},
     "output_type": "display_data"
    },
    {
     "data": {
      "text/plain": [
       "'Eastmarch'"
      ]
     },
     "metadata": {},
     "output_type": "display_data"
    },
    {
     "data": {
      "text/plain": [
       "'The Pale'"
      ]
     },
     "metadata": {},
     "output_type": "display_data"
    }
   ],
   "source": [
    "for region in regions:\n",
    "    display(region)"
   ]
  },
  {
   "cell_type": "code",
   "execution_count": 74,
   "metadata": {},
   "outputs": [
    {
     "data": {
      "text/plain": [
       "'1-The Rift'"
      ]
     },
     "metadata": {},
     "output_type": "display_data"
    },
    {
     "data": {
      "text/plain": [
       "'2-Winterhold'"
      ]
     },
     "metadata": {},
     "output_type": "display_data"
    },
    {
     "data": {
      "text/plain": [
       "'3-Haafingar'"
      ]
     },
     "metadata": {},
     "output_type": "display_data"
    },
    {
     "data": {
      "text/plain": [
       "'4-Hjaalmarch'"
      ]
     },
     "metadata": {},
     "output_type": "display_data"
    },
    {
     "data": {
      "text/plain": [
       "'5-The Reach'"
      ]
     },
     "metadata": {},
     "output_type": "display_data"
    },
    {
     "data": {
      "text/plain": [
       "'6-Whiterun'"
      ]
     },
     "metadata": {},
     "output_type": "display_data"
    },
    {
     "data": {
      "text/plain": [
       "'7-Falkreath'"
      ]
     },
     "metadata": {},
     "output_type": "display_data"
    },
    {
     "data": {
      "text/plain": [
       "'8-Eastmarch'"
      ]
     },
     "metadata": {},
     "output_type": "display_data"
    },
    {
     "data": {
      "text/plain": [
       "'9-The Pale'"
      ]
     },
     "metadata": {},
     "output_type": "display_data"
    }
   ],
   "source": [
    "for i, region in enumerate(regions):\n",
    "    display(f'{i+1}-{region}')"
   ]
  },
  {
   "cell_type": "code",
   "execution_count": 81,
   "metadata": {},
   "outputs": [],
   "source": [
    "jarls = ['Laila', 'Korir', 'Elisiif', 'Idgrod', 'Igmund', 'Siddgeir', 'Ulfric', 'Skald']"
   ]
  },
  {
   "cell_type": "code",
   "execution_count": 82,
   "metadata": {},
   "outputs": [
    {
     "data": {
      "text/plain": [
       "{'Laila': 'The Rift',\n",
       " 'Korir': 'Winterhold',\n",
       " 'Elisiif': 'Haafingar',\n",
       " 'Idgrod': 'Hjaalmarch',\n",
       " 'Igmund': 'The Reach',\n",
       " 'Siddgeir': 'Whiterun',\n",
       " 'Ulfric': 'Falkreath',\n",
       " 'Skald': 'Eastmarch'}"
      ]
     },
     "execution_count": 82,
     "metadata": {},
     "output_type": "execute_result"
    }
   ],
   "source": [
    "some_dict = {}\n",
    "\n",
    "for jarl, region in zip(jarls, regions):\n",
    "    some_dict[jarl] = region\n",
    "\n",
    "\n",
    "some_dict"
   ]
  },
  {
   "cell_type": "code",
   "execution_count": 87,
   "metadata": {},
   "outputs": [
    {
     "data": {
      "text/plain": [
       "{'Laila': 'The Rift',\n",
       " 'Korir': 'Winterhold',\n",
       " 'Elisiif': 'Haafingar',\n",
       " 'Idgrod': 'Hjaalmarch',\n",
       " 'Igmund': 'The Reach',\n",
       " 'Siddgeir': 'Whiterun',\n",
       " 'Ulfric': 'Falkreath',\n",
       " 'Skald': 'Eastmarch'}"
      ]
     },
     "metadata": {},
     "output_type": "display_data"
    }
   ],
   "source": [
    "some_dict = {jarl:region for jarl, region in zip(jarls, regions)}\n",
    "\n",
    "display(some_dict)"
   ]
  },
  {
   "attachments": {},
   "cell_type": "markdown",
   "metadata": {},
   "source": [
    "## Ejemplos prácticos"
   ]
  },
  {
   "cell_type": "code",
   "execution_count": 91,
   "metadata": {},
   "outputs": [
    {
     "name": "stdout",
     "output_type": "stream",
     "text": [
      "El robot está fuera de la caja en la posición: (39, 75) \n",
      "La temperatura es: 44.75\n",
      "El robot está fuera de la caja en la posición: (51, 69) \n",
      "La temperatura es: 28.26\n",
      "El robot está fuera de la caja en la posición: (57, 61) \n",
      "La temperatura es: 40.61\n",
      "El robot está fuera de la caja en la posición: (97, 57) \n",
      "La temperatura es: 31.82\n",
      "El robot está fuera de la caja en la posición: (41, 5) \n",
      "La temperatura es: 25.09\n",
      "El robot está fuera de la caja en la posición: (63, 83) \n",
      "La temperatura es: 32.03\n",
      "El robot está fuera de la caja en la posición: (65, 50) \n",
      "La temperatura es: 26.84\n",
      "El robot está fuera de la caja en la posición: (91, 11) \n",
      "La temperatura es: 28.53\n",
      "El robot está fuera de la caja en la posición: (51, 13) \n",
      "La temperatura es: 39.13\n",
      "El robot está dentro de la caja en la posición: (5, 17) y la temperatura es: 44.64\n",
      "¡ALERTA! Temperatura demasiado alta.\n",
      "El robot está fuera de la caja en la posición: (60, 57) \n",
      "La temperatura es: 36.13\n",
      "Últimas 10 temperaturas medidas: [28.26, 40.61, 31.82, 25.09, 32.03, 26.84, 28.53, 39.13, 44.64, 36.13]\n",
      "El robot está fuera de la caja en la posición: (87, 8) \n",
      "La temperatura es: 38.09\n",
      "Últimas 10 temperaturas medidas: [40.61, 31.82, 25.09, 32.03, 26.84, 28.53, 39.13, 44.64, 36.13, 38.09]\n",
      "El robot está fuera de la caja en la posición: (49, 42) \n",
      "La temperatura es: 32.61\n",
      "Últimas 10 temperaturas medidas: [31.82, 25.09, 32.03, 26.84, 28.53, 39.13, 44.64, 36.13, 38.09, 32.61]\n",
      "El robot está fuera de la caja en la posición: (23, 48) \n",
      "La temperatura es: 40.76\n",
      "Últimas 10 temperaturas medidas: [25.09, 32.03, 26.84, 28.53, 39.13, 44.64, 36.13, 38.09, 32.61, 40.76]\n",
      "El robot está fuera de la caja en la posición: (82, 64) \n",
      "La temperatura es: 25.16\n",
      "Últimas 10 temperaturas medidas: [32.03, 26.84, 28.53, 39.13, 44.64, 36.13, 38.09, 32.61, 40.76, 25.16]\n",
      "El robot está fuera de la caja en la posición: (79, 48) \n",
      "La temperatura es: 37.11\n",
      "Últimas 10 temperaturas medidas: [26.84, 28.53, 39.13, 44.64, 36.13, 38.09, 32.61, 40.76, 25.16, 37.11]\n",
      "El robot está fuera de la caja en la posición: (71, 34) \n",
      "La temperatura es: 40.92\n",
      "Últimas 10 temperaturas medidas: [28.53, 39.13, 44.64, 36.13, 38.09, 32.61, 40.76, 25.16, 37.11, 40.92]\n",
      "El robot está fuera de la caja en la posición: (87, 95) \n",
      "La temperatura es: 43.08\n",
      "Últimas 10 temperaturas medidas: [39.13, 44.64, 36.13, 38.09, 32.61, 40.76, 25.16, 37.11, 40.92, 43.08]\n",
      "El robot está fuera de la caja en la posición: (81, 76) \n",
      "La temperatura es: 40.42\n",
      "Últimas 10 temperaturas medidas: [44.64, 36.13, 38.09, 32.61, 40.76, 25.16, 37.11, 40.92, 43.08, 40.42]\n",
      "El robot está fuera de la caja en la posición: (98, 99) \n",
      "La temperatura es: 39.96\n",
      "Últimas 10 temperaturas medidas: [36.13, 38.09, 32.61, 40.76, 25.16, 37.11, 40.92, 43.08, 40.42, 39.96]\n",
      "El robot está fuera de la caja en la posición: (47, 55) \n",
      "La temperatura es: 39.41\n",
      "Últimas 10 temperaturas medidas: [38.09, 32.61, 40.76, 25.16, 37.11, 40.92, 43.08, 40.42, 39.96, 39.41]\n",
      "El robot está dentro de la caja en la posición: (11, 6) y la temperatura es: 39.74\n",
      "Últimas 10 temperaturas medidas: [32.61, 40.76, 25.16, 37.11, 40.92, 43.08, 40.42, 39.96, 39.41, 39.74]\n",
      "El robot está fuera de la caja en la posición: (76, 63) \n",
      "La temperatura es: 43.06\n",
      "Últimas 10 temperaturas medidas: [40.76, 25.16, 37.11, 40.92, 43.08, 40.42, 39.96, 39.41, 39.74, 43.06]\n",
      "El robot está dentro de la caja en la posición: (17, 28) y la temperatura es: 30.88\n",
      "Últimas 10 temperaturas medidas: [25.16, 37.11, 40.92, 43.08, 40.42, 39.96, 39.41, 39.74, 43.06, 30.88]\n",
      "El robot está fuera de la caja en la posición: (42, 68) \n",
      "La temperatura es: 35.06\n",
      "Últimas 10 temperaturas medidas: [37.11, 40.92, 43.08, 40.42, 39.96, 39.41, 39.74, 43.06, 30.88, 35.06]\n",
      "El robot está fuera de la caja en la posición: (13, 81) \n",
      "La temperatura es: 28.35\n",
      "Últimas 10 temperaturas medidas: [40.92, 43.08, 40.42, 39.96, 39.41, 39.74, 43.06, 30.88, 35.06, 28.35]\n",
      "El robot está fuera de la caja en la posición: (76, 72) \n",
      "La temperatura es: 32.64\n",
      "Últimas 10 temperaturas medidas: [43.08, 40.42, 39.96, 39.41, 39.74, 43.06, 30.88, 35.06, 28.35, 32.64]\n",
      "El robot está fuera de la caja en la posición: (66, 59) \n",
      "La temperatura es: 44.3\n",
      "Últimas 10 temperaturas medidas: [40.42, 39.96, 39.41, 39.74, 43.06, 30.88, 35.06, 28.35, 32.64, 44.3]\n",
      "El robot está dentro de la caja en la posición: (15, 29) y la temperatura es: 39.78\n",
      "Últimas 10 temperaturas medidas: [39.96, 39.41, 39.74, 43.06, 30.88, 35.06, 28.35, 32.64, 44.3, 39.78]\n",
      "El robot está fuera de la caja en la posición: (69, 33) \n",
      "La temperatura es: 34.67\n",
      "Últimas 10 temperaturas medidas: [39.41, 39.74, 43.06, 30.88, 35.06, 28.35, 32.64, 44.3, 39.78, 34.67]\n",
      "El robot está fuera de la caja en la posición: (11, 66) \n",
      "La temperatura es: 33.44\n",
      "Últimas 10 temperaturas medidas: [39.74, 43.06, 30.88, 35.06, 28.35, 32.64, 44.3, 39.78, 34.67, 33.44]\n",
      "El robot está fuera de la caja en la posición: (61, 74) \n",
      "La temperatura es: 29.83\n",
      "Últimas 10 temperaturas medidas: [43.06, 30.88, 35.06, 28.35, 32.64, 44.3, 39.78, 34.67, 33.44, 29.83]\n",
      "El robot está fuera de la caja en la posición: (31, 85) \n",
      "La temperatura es: 27.29\n",
      "Últimas 10 temperaturas medidas: [30.88, 35.06, 28.35, 32.64, 44.3, 39.78, 34.67, 33.44, 29.83, 27.29]\n"
     ]
    },
    {
     "ename": "KeyboardInterrupt",
     "evalue": "",
     "output_type": "error",
     "traceback": [
      "\u001b[0;31m---------------------------------------------------------------------------\u001b[0m",
      "\u001b[0;31mKeyboardInterrupt\u001b[0m                         Traceback (most recent call last)",
      "\u001b[0;32m/tmp/ipykernel_6461/670604469.py\u001b[0m in \u001b[0;36m<module>\u001b[0;34m\u001b[0m\n\u001b[1;32m     26\u001b[0m     \u001b[0;32mif\u001b[0m \u001b[0mlen\u001b[0m\u001b[0;34m(\u001b[0m\u001b[0mtemperaturas\u001b[0m\u001b[0;34m)\u001b[0m \u001b[0;34m>\u001b[0m \u001b[0;36m10\u001b[0m\u001b[0;34m:\u001b[0m\u001b[0;34m\u001b[0m\u001b[0;34m\u001b[0m\u001b[0m\n\u001b[1;32m     27\u001b[0m         \u001b[0mprint\u001b[0m\u001b[0;34m(\u001b[0m\u001b[0;34m\"Últimas 10 temperaturas medidas:\"\u001b[0m\u001b[0;34m,\u001b[0m \u001b[0mtemperaturas\u001b[0m\u001b[0;34m[\u001b[0m\u001b[0;34m-\u001b[0m\u001b[0;36m10\u001b[0m\u001b[0;34m:\u001b[0m\u001b[0;34m]\u001b[0m\u001b[0;34m)\u001b[0m\u001b[0;34m\u001b[0m\u001b[0;34m\u001b[0m\u001b[0m\n\u001b[0;32m---> 28\u001b[0;31m     \u001b[0mtime\u001b[0m\u001b[0;34m.\u001b[0m\u001b[0msleep\u001b[0m\u001b[0;34m(\u001b[0m\u001b[0;36m1\u001b[0m\u001b[0;34m)\u001b[0m\u001b[0;34m\u001b[0m\u001b[0;34m\u001b[0m\u001b[0m\n\u001b[0m",
      "\u001b[0;31mKeyboardInterrupt\u001b[0m: "
     ]
    }
   ],
   "source": [
    "import random\n",
    "import time\n",
    "\n",
    "trayectoria = []\n",
    "temperaturas = []\n",
    "\n",
    "obtener_temperatura = lambda: round(random.uniform(25, 45), 2)\n",
    "\n",
    "def obtener_coordenadas():\n",
    "    x = random.randint(0, 100)\n",
    "    y = random.randint(0, 100)\n",
    "    return (x, y)\n",
    "\n",
    "\n",
    "while True:\n",
    "    x, y = obtener_coordenadas()  # Función para obtener las coordenadas actuales\n",
    "    temperatura = obtener_temperatura() # Función para obtener la temperatura actual\n",
    "    trayectoria.append((x, y))   # Agregar las coordenadas actuales a la lista \"trayectoria\"\n",
    "    temperaturas.append(temperatura) # Agregar la temperatura actual a la lista \"temperaturas\"\n",
    "    if 0 <= x <= 34 and 0 <= y <= 45:\n",
    "        print(\"El robot está dentro de la caja en la posición:\", (x, y), \"\\ny la temperatura es:\", temperatura)\n",
    "        if temperatura > 40:\n",
    "            print(\"¡ALERTA! Temperatura demasiado alta.\")\n",
    "    else:\n",
    "        print(\"El robot está fuera de la caja en la posición:\", (x, y), \"\\nLa temperatura es:\", temperatura)\n",
    "    if len(temperaturas) > 10:\n",
    "        print(\"Últimas 10 temperaturas medidas:\", temperaturas[-10:])\n",
    "    time.sleep(1)\n"
   ]
  }
 ],
 "metadata": {
  "kernelspec": {
   "display_name": "base",
   "language": "python",
   "name": "python3"
  },
  "language_info": {
   "codemirror_mode": {
    "name": "ipython",
    "version": 3
   },
   "file_extension": ".py",
   "mimetype": "text/x-python",
   "name": "python",
   "nbconvert_exporter": "python",
   "pygments_lexer": "ipython3",
   "version": "3.9.13"
  },
  "orig_nbformat": 4
 },
 "nbformat": 4,
 "nbformat_minor": 2
}
